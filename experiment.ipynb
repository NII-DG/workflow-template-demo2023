{
 "cells": [
  {
   "attachments": {},
   "cell_type": "markdown",
   "metadata": {},
   "source": [
    "# 実験フロートップページ\n",
    "\n",
    "実験中に生じる研究者のタスクを実行支援します。  \n",
    "「実験の流れとリサーチフロー機能の概要」を確認後、「フロー図を作成する」のセルを実行してフロー図を作成してください。  \n",
    "また、個々のタスクの実行支援は、Jupyter Notebook形式で機械的に実行可能な手順書として記述されているため、柔軟に手順を修正いただけます。 "
   ]
  },
  {
   "attachments": {},
   "cell_type": "markdown",
   "metadata": {},
   "source": [
    "## 実験の流れとリサーチフロー機能の概要\n",
    "\n",
    "以下のような実験の流れに沿って、リサーチフロー機能をご利用いただけます。  \n",
    "**「0.実験フロー実行準備」を最初に行った後**、必要なタスクの支援機能を実行してください。"
   ]
  },
  {
   "attachments": {},
   "cell_type": "markdown",
   "metadata": {},
   "source": [
    "### 0. 実験フロー実行準備\n",
    "\n",
    "この実験で実験フローを使うのが初めての場合は、**次のフェーズに進む前に必ず行う必要**があります。  \n",
    "「初期設定を行う」のノードのリンクをクリックして、初期設定を実行してください。\n",
    "\n",
    "初期設定完了後、このトップページに研究リポジトリのREADME.mdのリンクから遷移した場合は実行する必要がありません。  "
   ]
  },
  {
   "attachments": {},
   "cell_type": "markdown",
   "metadata": {},
   "source": [
    "### 1. 実験準備\n",
    "\n",
    "実験を行う前の準備を支援します。"
   ]
  },
  {
   "attachments": {},
   "cell_type": "markdown",
   "metadata": {},
   "source": [
    "### 2. 実験\n",
    "\n",
    "作成された実験パッケージにはDMPのデータセット構造(datasetStructure)に従い、実験に必要なフォルダが用意されます。<br>\n",
    "各フォルダの使用について各データセット構造で共通する条件と特有の条件があります。<br>\n",
    "下記の条件を満たすように、実験入力データの準備とソースコードの作成をしてください。<br>\n",
    "\n",
    "- 共通条件\n",
    "  - ソースコードはPythonで記述し、`source`フォルダに配置すること  \n",
    "  - 実験の入力データは`input_data`フォルダに配置すること  \n",
    "  - 実験結果が`output_data`フォルダに出力されるように、実験ソースコードを記述すること  \n",
    "<p> </p>\n",
    "\n",
    "- 特有条件\n",
    "  - with_codeを選択した場合\n",
    "    - なし\n",
    "  <p> </p>\n",
    "\n",
    "  - for_parametersを選択した場合\n",
    "    - 各パラメータ実験の固有のパラメータファイルは、それぞれのparamsフォルダに配置すること\n",
    "      パラメータファイルは任意の種類を使用可(.txt, .yaml など)\n",
    "    - 実験結果は各パラメータ実験のoutput_dataフォルダに配置すること\n",
    "  <p> </p>\n",
    "\n",
    "実験結果が得られるまで、入力データや実験実行コードの修正を繰り返してください。  \n",
    "リサーチフロー機能では以下の処理を支援可能です。\n",
    "- 「実験の入力データを用意する」<br>\n",
    "  GIN-forkで公開しているリポジトリやS3のデータを入力データとして利用したい場合に活用できます。  \n",
    "  ※ 自分のローカルから用意したい場合は、ファイルを置きたい場所に移動した後、画面右上の白い `Upload` ボタンをクリックしてください。\n",
    "\n",
    "- 「実験を途中保存する」  \n",
    "  実験を途中保存してログを残すことができます。"
   ]
  },
  {
   "attachments": {},
   "cell_type": "markdown",
   "metadata": {},
   "source": [
    "### 3. 実験データなどの整理\n",
    "他の研究者が閲覧することを考慮した上で、実験の入出力データやソースコードの記述の見直し、ファイルの整理を行ってください。"
   ]
  },
  {
   "attachments": {},
   "cell_type": "markdown",
   "metadata": {},
   "source": [
    "### 4. 実験終了\n",
    "\n",
    "この実行環境でデータが維持されるのは最後に利用した日から30日間です。  \n",
    "実験データの整理後は必ず「実験を終了する」を実行してGIN-forkに実験データを同期させてください。  \n",
    "作成できる実行環境は10個までです。不要な実行環境は削除することを推奨します。"
   ]
  },
  {
   "attachments": {},
   "cell_type": "markdown",
   "metadata": {},
   "source": [
    "## 研究リポジトリ名・実験パッケージ名を確認する  \n",
    "以下のセルを実行すると、この実験実行環境で操作する実験パッケージの名前と、実験パッケージの存在する研究リポジトリ名を確認できます。  \n",
    "**この実験実行環境では、表示された名前の実験パッケージ内の変更のみがGIN-forkへ同期されます。**  \n",
    "実験パッケージ名は初期設定後にセルを実行すると表示されます。  \n",
    "研究リポジトリ名を変更した際はセルを解凍し再実行してください。  "
   ]
  },
  {
   "cell_type": "code",
   "execution_count": null,
   "metadata": {},
   "outputs": [],
   "source": [
    "import os\n",
    "from IPython.display import display, Javascript\n",
    "os.chdir('/home/jovyan/WORKFLOWS/FLOW/')\n",
    "from util.scripts import utils\n",
    "\n",
    "%store -r\n",
    "if 'EXPERIMENT_TITLE' not in locals().keys() : EXPERIMENT_TITLE = '-'\n",
    "utils.show_name('blue', EXPERIMENT_TITLE)\n",
    "display(Javascript('IPython.notebook.save_checkpoint();'))"
   ]
  },
  {
   "attachments": {},
   "cell_type": "markdown",
   "metadata": {},
   "source": [
    "## フロー図を作成する\n",
    "\n",
    "以下のセルを実行してフロー図を作成できます。  \n",
    "すでに実行したタスクを確認したい場合は再度実行してください。"
   ]
  },
  {
   "cell_type": "code",
   "execution_count": null,
   "metadata": {},
   "outputs": [],
   "source": [
    "from IPython.display import display, SVG, Javascript\n",
    "import os\n",
    "\n",
    "nb_utils_path   = os.path.join(os.environ['HOME'], 'WORKFLOWS/EX-WORKFLOWS/util/scripts/nb_utils.py')\n",
    "basic_path      = os.path.join(os.environ['HOME'], 'WORKFLOWS/EX-WORKFLOWS/images')\n",
    "basic_path_svg  = os.path.join(basic_path, 'notebooks.svg')\n",
    "basic_path_diag = os.path.join(basic_path, 'notebooks.diag')\n",
    "os.chdir(os.environ['HOME'])\n",
    "!python3 $nb_utils_path $basic_path_diag\n",
    "\n",
    "display(SVG(filename=basic_path_svg))\n",
    "display(Javascript('IPython.notebook.save_checkpoint();'))"
   ]
  },
  {
   "attachments": {},
   "cell_type": "markdown",
   "metadata": {},
   "source": [
    "フロー図の左側にあるノードはリサーチフローのフェーズとその流れを表しており、右側にあるノードは個々の支援するタスクを表しています。  \n",
    "各タスクを実行するには、実行したいタスクのノードのリンクをクリックしてください。"
   ]
  },
  {
   "attachments": {},
   "cell_type": "markdown",
   "metadata": {},
   "source": [
    "## GIN-forkへ戻る\n",
    "\n",
    "以下のセルを実行し、表示されるURLをクリックするとGIN-forkへアクセスできます。  \n",
    "リンクをクリックして404エラーが表示された場合は、リポジトリ名が更新されている可能性があるため以下のセルを再度実行して下さい。"
   ]
  },
  {
   "cell_type": "code",
   "execution_count": null,
   "metadata": {},
   "outputs": [],
   "source": [
    "import os\n",
    "import subprocess\n",
    "from IPython.display import display, Javascript, clear_output\n",
    "\n",
    "# リモートリポジトリのURLを最新化する\n",
    "os.chdir('/home/jovyan/WORKFLOWS/FLOW/')\n",
    "from util.scripts import utils\n",
    "utils.update_repo_url()\n",
    "os.chdir(os.environ['HOME'])\n",
    "\n",
    "# GIN-forkへのアクセスリンクを表示する\n",
    "clear_output()\n",
    "print(\"以下のリンクをクリックしてGIN-forkへ遷移してください。新規タブで開きます。\\n\")\n",
    "print(subprocess.getoutput('git config --get remote.origin.url'))\n",
    "display(Javascript('IPython.notebook.save_checkpoint();'))"
   ]
  }
 ],
 "metadata": {
  "kernelspec": {
   "display_name": "Python 3.9.5 64-bit",
   "language": "python",
   "name": "python3"
  },
  "language_info": {
   "codemirror_mode": {
    "name": "ipython",
    "version": 3
   },
   "file_extension": ".py",
   "mimetype": "text/x-python",
   "name": "python",
   "nbconvert_exporter": "python",
   "pygments_lexer": "ipython3",
   "version": "3.9.5"
  },
  "vscode": {
   "interpreter": {
    "hash": "6a196852dad78838558c3d25678ed4fa7922e766dc7a8a519a679191ca8fa666"
   }
  }
 },
 "nbformat": 4,
 "nbformat_minor": 4
}
