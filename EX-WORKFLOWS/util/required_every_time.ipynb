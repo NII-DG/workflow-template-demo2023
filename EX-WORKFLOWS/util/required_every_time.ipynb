{
 "cells": [
  {
   "cell_type": "markdown",
   "id": "4719bc46",
   "metadata": {},
   "source": [
    "# 初期設定を行う\n",
    "\n",
    "実験フロー利用のために必要な準備を行います。  \n",
    "上から順番に実行してください。\n",
    "\n",
    "実験フロートップページに戻る場合は[こちら](../../experiment.ipynb)。新規タブで開きます。  "
   ]
  },
  {
   "cell_type": "markdown",
   "id": "56a9110e",
   "metadata": {},
   "source": [
    "## 0. 研究リポジトリ名を確認する  \n",
    "以下のセルを実行すると、この実験実行環境で操作する研究リポジトリ名を確認できます。  \n",
    "このタスクでは、表示された名前の研究リポジトリの配下に新しく実験パッケージを作成します。  "
   ]
  },
  {
   "cell_type": "code",
   "execution_count": null,
   "id": "265fad84",
   "metadata": {},
   "outputs": [],
   "source": [
    "import os\n",
    "os.chdir('/home/jovyan/WORKFLOWS/FLOW/')\n",
    "from util.scripts import utils\n",
    "utils.show_name('blue')"
   ]
  },
  {
   "cell_type": "markdown",
   "id": "134fa434",
   "metadata": {},
   "source": [
    "## 1. 実験パッケージを用意する\n",
    "### 1-1. 開始する実験の実験パッケージ名を入力する\n",
    "\n",
    "以下のセルを実行し、表示されるテキストボックスに作成したい実験パッケージ名を半角英数字で入力してください。  \n",
    "研究リポジトリ内にすでに存在するパッケージ名の実験パッケージは作成いただけません。実験名など分かりやすい名前をご記入ください。   \n",
    "※ 入力値に誤りがある場合、次に進む前に、もう一度実行することで訂正ができます。"
   ]
  },
  {
   "cell_type": "code",
   "execution_count": null,
   "id": "3660be54",
   "metadata": {},
   "outputs": [],
   "source": [
    "import os\n",
    "import re\n",
    "from IPython.display import clear_output\n",
    "\n",
    "# GINサーバのものに合わせたバリデーションルールを設定\n",
    "validation = re.compile(r'[a-z|A-Z|0-9|\\-|_|.]+')\n",
    "\n",
    "print('作成したい実験パッケージ名を半角英数字で入力してください。')\n",
    "while True:\n",
    "    print(\"入力完了後、Enterキーを押下してください。\")\n",
    "    experiment_title = input(\"パッケージ名：\")\n",
    "    if validation.fullmatch(experiment_title):\n",
    "        break\n",
    "    else:\n",
    "        clear_output()\n",
    "        print('パッケージ名は英数字、および\"-\", \"_\", \".\"のみで入力してください。')\n",
    "\n",
    "clear_output()\n",
    "\n",
    "# 該当実験パッケージを特定させるため、環境変数EXPERIMENT_TITLEに実験パッケージ名を設定\n",
    "EXPERIMENT_TITLE = experiment_title\n",
    "%store EXPERIMENT_TITLE\n",
    "clear_output()\n",
    "\n",
    "print(\"作成したパッケージ名：\", experiment_title)\n",
    "print('この実験名で処理を進めます。変更したい場合は、このセルをもう一度実行することで訂正ができます。')"
   ]
  },
  {
   "cell_type": "markdown",
   "id": "e4cde40b",
   "metadata": {
    "heading_collapsed": true
   },
   "source": [
    "### 1-2. 実験パッケージを作成する"
   ]
  },
  {
   "cell_type": "code",
   "execution_count": null,
   "id": "a05ca83b",
   "metadata": {
    "hidden": true
   },
   "outputs": [],
   "source": [
    "# このコンテナで扱う実験パッケージのパスを作成する\n",
    "%store -r EXPERIMENT_TITLE\n",
    "experiment_path = '/home/jovyan/experiments/' + EXPERIMENT_TITLE\n",
    "\n",
    "# 実験パッケージ名のフォルダが無ければ作成する\n",
    "import os\n",
    "os.chdir(os.environ['HOME'])\n",
    "!mkdir -p $experiment_path"
   ]
  },
  {
   "cell_type": "code",
   "execution_count": null,
   "id": "a63c0b47",
   "metadata": {
    "hidden": true
   },
   "outputs": [],
   "source": [
    "import os\n",
    "import json\n",
    "from IPython.display import clear_output\n",
    "\n",
    "path_flow_root = '/home/jovyan/WORKFLOWS/FLOW/'\n",
    "os.chdir(path_flow_root)\n",
    "from util.scripts import utils\n",
    "\n",
    "# 以下の認証の手順で用いる、\n",
    "# GINのドメイン名等をパラメタファイルから取得する\n",
    "params = {}\n",
    "with open(utils.fetch_param_file_path(), mode='r') as f:\n",
    "    params = json.load(f)\n",
    "\n",
    "# DS構成のスキーム名をdmp.jsonから取得する\n",
    "assigned_values = utils.fetch_gin_monitoring_assigned_values()\n",
    "scheme_name = assigned_values['datasetStructure']\n",
    "\n",
    "# 実験パッケージを用意する\n",
    "!cp -r ~/WORKFLOWS/PACKAGE/scheme/$scheme_name/. $experiment_path\n",
    "!cp -r ~/WORKFLOWS/PACKAGE/base/. $experiment_path\n",
    "\n",
    "# dataladのユーザ設定漏れの警告を表示させないため\n",
    "clear_output()"
   ]
  },
  {
   "cell_type": "code",
   "execution_count": null,
   "id": "5a295068",
   "metadata": {
    "hidden": true
   },
   "outputs": [],
   "source": [
    "# pipeline.jsonに実験名を追記する\n",
    "import json\n",
    "\n",
    "with open('/home/jovyan/pipeline.json', 'r') as f:\n",
    "    pipeline = json.load(f)\n",
    "\n",
    "pipeline.append(experiment_title)\n",
    "\n",
    "with open('/home/jovyan/pipeline.json', 'w') as f:\n",
    "    json.dump(pipeline, f, indent = 4)\n"
   ]
  },
  {
   "cell_type": "markdown",
   "id": "543fa345",
   "metadata": {},
   "source": [
    "### 1-3. パラメータ実験名を決定する\n",
    "\n",
    "データ構造(datasetStructure)として、パラメータ用実験パッケ―ジ(for_parameters)を選択した場合、  \n",
    "以下のような構造でデータが格納され、パラメータ毎にoutput_dataとパラメータファイルを管理することができるようになります。  \n",
    "\n",
    "![パラメータ実験用パッケージイメージ](./../images/パラメータ実験用パッケージイメージ.png)\n",
    "\n",
    "パラメータ実験名としては、実験パッケージ内で同名のパラメータ実験名を使用することはできません。  \n",
    "また、「parameter」というパラメータ実験名も使用することができません。パラメータ名など分かりやすい名前をご記入ください。  \n",
    "※ 入力値に誤りがある場合、次に進む前に、もう一度実行することで訂正ができます。  "
   ]
  },
  {
   "cell_type": "code",
   "execution_count": null,
   "id": "4f3df59d",
   "metadata": {},
   "outputs": [],
   "source": [
    "import os\n",
    "import re\n",
    "import shutil\n",
    "from IPython.display import clear_output\n",
    "\n",
    "# データセットの構成がパラメータ実験用ではない場合、何もしない。\n",
    "if scheme_name != 'for_parameters':\n",
    "    print( '本処理は不要です。')\n",
    "else:\n",
    "    # GINサーバのものに合わせたバリデーションルールを設定\n",
    "    validation = re.compile(r'[a-z|A-Z|0-9|\\-|_|.]+')\n",
    "\n",
    "    print('作成したいパラメータ実験名を半角英数字で入力してください。')\n",
    "    while True:\n",
    "        print(\"入力完了後、Enterキーを押下してください。\")\n",
    "        paramexp_title = input(\"パラメータ実験名：\")\n",
    "        if validation.fullmatch(paramexp_title):\n",
    "            break\n",
    "        else:\n",
    "            clear_output()\n",
    "            print('パラメータ実験名は英数字、および\"-\", \"_\", \".\"のみで入力してください。')\n",
    "\n",
    "    clear_output()\n",
    "\n",
    "    # 該当実験パッケージを特定させるため、環境変数EXPERIMENT_TITLEに実験パッケージ名を設定\n",
    "    PARAMEXP_TITLE = paramexp_title\n",
    "    %store PARAMEXP_TITLE\n",
    "    clear_output()\n",
    "\n",
    "    print(\"作成したパラメータ実験名：\", paramexp_title)\n",
    "    print('このパラメータ実験名で処理を進めます。')\n",
    "\n",
    "    # 実験パッケージの直下に移動\n",
    "    os.chdir(experiment_path)\n",
    "\n",
    "    # parameterディレクトリをユーザが指定したパラメータ実験名に変更\n",
    "    shutil.move('parameter', paramexp_title)\n"
   ]
  },
  {
   "cell_type": "markdown",
   "id": "f9a2a59c",
   "metadata": {},
   "source": [
    "## 2. 実験パッケージをカスタマイズする\n",
    "必要に応じて本セクションの処理を実行し、用意した実験パッケージをカスタマイズしてください。"
   ]
  },
  {
   "cell_type": "markdown",
   "id": "5deb8a3b",
   "metadata": {
    "heading_collapsed": true
   },
   "source": [
    "### 2-1. (Option) テストコード配置用ディレクトリの作成  \n",
    "本セクションは、必須処理ではありません。利用する予定がある場合は実行してください。  \n",
    "以下のセルを実行すると、sourceを配置する用のディレクトリ配下にテストコードを配置する用のディレクトリを作成します。"
   ]
  },
  {
   "cell_type": "code",
   "execution_count": null,
   "id": "58eafd38",
   "metadata": {
    "hidden": true
   },
   "outputs": [],
   "source": [
    "import os\n",
    "\n",
    "# 実験パッケージの直下に移動\n",
    "os.chdir(experiment_path)\n",
    "\n",
    "new_dir_path_recursive = 'source/test'\n",
    "os.makedirs(new_dir_path_recursive, exist_ok=True)\n"
   ]
  },
  {
   "cell_type": "markdown",
   "id": "b0cab5ce",
   "metadata": {
    "heading_collapsed": true
   },
   "source": [
    "### 2-2. (Option) Ciツール用設定ファイル配置用ディレクトリの作成\n",
    "本セクションは、必須処理ではありません。利用する予定がある場合は実行してください。  \n",
    "以下のセルを実行すると、実験パッケージの直下にCiツールで使用する設定ファイル格納用のディレクトリを作成します。  "
   ]
  },
  {
   "cell_type": "code",
   "execution_count": null,
   "id": "50675411",
   "metadata": {
    "hidden": true
   },
   "outputs": [],
   "source": [
    "import os\n",
    "\n",
    "# 実験パッケージの直下に移動\n",
    "os.chdir(experiment_path)\n",
    "\n",
    "new_dir_path_recursive = 'ci'\n",
    "os.makedirs(new_dir_path_recursive, exist_ok=True)"
   ]
  },
  {
   "cell_type": "markdown",
   "id": "e4d73fb8",
   "metadata": {},
   "source": [
    "## 3. ユーザー認証を行う\n",
    "\n",
    "この手順では、あなたのユーザ情報をシステムに認証させる手続きを行います。  \n",
    "以下のセルを実行し、画面の表示に沿ってGIN-forkに登録したユーザー名、パスワード、メールアドレスを入力してください。各項目入力後、Enterキーを押下してください。  "
   ]
  },
  {
   "cell_type": "code",
   "execution_count": null,
   "id": "1f57a058",
   "metadata": {},
   "outputs": [],
   "source": [
    "import os\n",
    "import time\n",
    "import getpass\n",
    "import requests\n",
    "\n",
    "from IPython.display import clear_output\n",
    "from requests.auth import HTTPBasicAuth\n",
    "from http import HTTPStatus\n",
    "\n",
    "tokens = []\n",
    "access_token = {}\n",
    "\n",
    "# 正常に認証が終わるまで繰り返し\n",
    "os.chdir(path_flow_root)\n",
    "from util.scripts import utils\n",
    "tokens, access_token, name, email = utils.verify_GIN_user()\n",
    "\n",
    "os.chdir(os.environ['HOME'])\n",
    "!git config --global user.name $name\n",
    "!git config --global user.email $email\n",
    "clear_output()\n",
    "print(\"認証が正常に完了しました。次の手順へお進みください。\")"
   ]
  },
  {
   "cell_type": "markdown",
   "id": "20dc08c8",
   "metadata": {
    "heading_collapsed": true
   },
   "source": [
    "## 4. データ同期のための設定をする\n",
    "\n",
    "この手順では、今の実行環境とGIN-forkのリポジトリでデータの同期をとるための準備をします。  \n",
    "以下を実行することで、システムがデータ同期の準備の手続きを行います。"
   ]
  },
  {
   "cell_type": "code",
   "execution_count": null,
   "id": "114cf975",
   "metadata": {
    "hidden": true
   },
   "outputs": [],
   "source": [
    "%%bash\n",
    "#!/bin/bash\n",
    "if [ ! -e ~/.ssh/id_ed25519 ]; then\n",
    "    # 鍵ペアが無ければ作成\n",
    "    ssh-keygen -t ed25519 -N \"\" -f ~/.ssh/id_ed25519\n",
    "fi\n",
    "\n",
    "if [ ! -d ~/.datalad/ ]; then\n",
    "    # Dataladのデータセットでなければデータセット化する\n",
    "    datalad create --force /home/jovyan\n",
    "fi"
   ]
  },
  {
   "cell_type": "code",
   "execution_count": null,
   "id": "b63e8f47",
   "metadata": {
    "hidden": true
   },
   "outputs": [],
   "source": [
    "# 公開鍵アップロード\n",
    "# refs: https://github.com/gogs/docs-api/blob/master/Users/Public%20Keys.md#create-a-public-key\n",
    "import os\n",
    "import requests\n",
    "import time\n",
    "from http import HTTPStatus\n",
    "\n",
    "import json\n",
    "\n",
    "os.chdir(path_flow_root)\n",
    "from util.scripts import utils\n",
    "\n",
    "pubkey = !cat ~/.ssh/id_ed25519.pub\n",
    "\n",
    "# 認証時に取得したトークンを使ってPOSTリクエスト\n",
    "response = requests.post(\n",
    "                params['siblings']['ginHttp']+'/api/v1/user/keys?token=' + tokens[0]['sha1'],\n",
    "                data={\n",
    "                    \"title\": \"system-generated-\"+str(time.time()),\n",
    "                    \"key\": pubkey[0]\n",
    "                })\n",
    "msg = response.json()\n",
    "\n",
    "if response.status_code == HTTPStatus.CREATED:\n",
    "    print('公開鍵の用意が出来ました。')\n",
    "elif msg['message'] == 'Key content has been used as non-deploy key':\n",
    "    print('すでに公開鍵の用意が完了しています。')"
   ]
  },
  {
   "cell_type": "code",
   "execution_count": null,
   "id": "148b574a",
   "metadata": {
    "hidden": true
   },
   "outputs": [],
   "source": [
    "import os\n",
    "import subprocess\n",
    "from datalad import api\n",
    "from IPython.display import clear_output\n",
    "\n",
    "# sibling url をsshに変更する\n",
    "os.chdir(os.environ['HOME'])\n",
    "http_url = subprocess.getoutput('git config --get remote.origin.url')\n",
    "ssh_url = http_url.replace(params['siblings']['ginHttp'], params['siblings']['ginSsh'])\n",
    "    \n",
    "# siblingsにGINを登録する\n",
    "sibling = !datalad siblings -s gin\n",
    "for item in sibling:\n",
    "    if 'unknown sibling name' in item:\n",
    "        api.siblings(action='add', name='gin', url=ssh_url)\n",
    "    else:\n",
    "        pass\n",
    "\n",
    "clear_output()\n",
    "print('SSH接続の準備が完了しました。')"
   ]
  },
  {
   "cell_type": "markdown",
   "id": "1d804955",
   "metadata": {},
   "source": [
    "## 5. READMEに実験実行環境へのリンクを追加する\n",
    "\n",
    "当実行環境へアクセスするためのリンクを、GIN-forkの当実験パッケージのREADMEに追記します。"
   ]
  },
  {
   "cell_type": "code",
   "execution_count": null,
   "id": "064f4a64",
   "metadata": {},
   "outputs": [],
   "source": [
    "import os\n",
    "import urllib\n",
    "from IPython.display import clear_output\n",
    "\n",
    "\n",
    "print('当画面のURLをブラウザからコピーし、フォームに入力してください。\\n入力後、Enterキーを押下してください。')\n",
    "url = input()\n",
    "print(url.find(\"/notebooks/\"))\n",
    "url = url[:url.find(\"/notebooks/\")] + \"/notebooks/WORKFLOWS/experiment.ipynb\"\n",
    "\n",
    "with open(experiment_path + '/README.md', 'a', newline='\\n') as f:\n",
    "    f.write(\"\\n## 実験実行環境にアクセスしたい場合\\n実行環境へ遷移する場合は以下のリンクをクリックしてください。<br>\" + url + \"  \")\n",
    "    f.write(\"\\n\\n上記リンクからアクセスできない場合は以下のリンクから実験実行環境を再構築してください。  \")\n",
    "    f.write(\"\\n再構築が完了すると、「実験実行環境を再構築した場合のセットアップを行う」の実行画面が出力されますので、ガイドに従って実行してください。  \")\n",
    "    f.write(\"\\nhttps://binder.cs.rcos.nii.ac.jp/v2/git/\" + urllib.parse.quote(http_url, safe='') + \"/HEAD?filepath=WORKFLOWS/EX-WORKFLOWS/util/required_rebuild_container.ipynb\")\n",
    "\n",
    "clear_output()\n",
    "print('READMEに実行環境へのリンクを追加しました。')"
   ]
  },
  {
   "cell_type": "markdown",
   "id": "182e5262",
   "metadata": {
    "heading_collapsed": true
   },
   "source": [
    "## 6. 本タスクの実行結果をGIN-forkに同期する"
   ]
  },
  {
   "cell_type": "code",
   "execution_count": null,
   "id": "19b8f651",
   "metadata": {
    "hidden": true
   },
   "outputs": [],
   "source": [
    "from IPython.display import display, Javascript\n",
    "display(Javascript('IPython.notebook.save_checkpoint();'))"
   ]
  },
  {
   "cell_type": "code",
   "execution_count": null,
   "id": "fa3d96f6",
   "metadata": {
    "hidden": true
   },
   "outputs": [],
   "source": [
    "import os\n",
    "os.chdir(path_flow_root)\n",
    "from util.scripts import utils\n",
    "\n",
    "# SSHホスト（＝GIN）を信頼する設定\n",
    "utils.config_GIN(ginHttp = params['siblings']['ginHttp'])\n",
    "\n",
    "# S3にあるデータをGIN-forkに同期しないための設定\n",
    "!git annex untrust here\n",
    "!git annex --force trust web"
   ]
  },
  {
   "cell_type": "code",
   "execution_count": null,
   "id": "741d9ca7",
   "metadata": {
    "hidden": true
   },
   "outputs": [],
   "source": [
    "import os\n",
    "import glob\n",
    "  \n",
    "os.chdir(experiment_path)\n",
    "\n",
    "#**************************************************#\n",
    "#* Generate a list of folder paths to be managed by Git-annex. #\n",
    "#**************************************************#\n",
    "dirlist=[]\n",
    "filelist=[]\n",
    "annexed_save_path=[]\n",
    "\n",
    "# Recursively search under the experimental package to obtain a list of absolute directory paths.\n",
    "for root, dirs, files in os.walk(top=experiment_path):\n",
    "    for dir in dirs:\n",
    "        dirPath = os.path.join(root, dir)\n",
    "        dirlist.append( dirPath )   \n",
    "\n",
    "# Add directory paths containing the string \"output_data\" that are not included under input_data to annexed_save_path.\n",
    "output_data_path = [ s for s in dirlist if 'output_data' in s ]\n",
    "for output_data in output_data_path:  \n",
    "    if  \"input_data\" not in output_data:\n",
    "        annexed_save_path.append( output_data )\n",
    "\n",
    "# Add the input_data directory to annexed_save_path.\n",
    "annexed_save_path.append( experiment_path + '/input_data'  )\n",
    "\n",
    "# Generate a list of file paths to which metadata is to be assigned.\n",
    "gitannex_files = []\n",
    "for path in annexed_save_path:\n",
    "    gitannex_files += [p for p in glob.glob(path+'/**', recursive=True)\n",
    "             if os.path.isfile(p)]\n",
    "\n",
    "#********************************************************#\n",
    "#* Generate a list of directory paths and file paths to be managed by Git. #\n",
    "#********************************************************#\n",
    "# Obtain a list of directories and files directly under the experimental package.\n",
    "files = os.listdir()\n",
    "\n",
    "# Delete Git-annex managed directories (input_data and output_data) from the retrieved list.\n",
    "dirs = [f for f in files if os.path.isdir(f)]\n",
    "\n",
    "for dirname in dirs:\n",
    "    if dirname == 'input_data' :\n",
    "        dirs.remove('input_data')\n",
    "\n",
    "    if dirname == 'output_data' :\n",
    "        dirs.remove('output_data')\n",
    "\n",
    "for dirname in dirs:\n",
    "    if dirname != 'ci' and dirname != 'source':\n",
    "        full_param_dir = '{}/{}/params'.format(experiment_path,dirname)\n",
    "        if os.path.isdir(full_param_dir):\n",
    "            dirs.remove(dirname)\n",
    "            ex_param_path = '{}/{}'.format(experiment_path, dirname)\n",
    "            ex_param_path_childs = os.listdir(ex_param_path)\n",
    "            for ex_param_path_child in ex_param_path_childs:\n",
    "                if ex_param_path_child != 'output_data':\n",
    "                    dirs.append('{}/{}'.format(dirname,ex_param_path_child))\n",
    "    \n",
    "# Obtain files directly under the experimental package.\n",
    "files = [f for f in files if os.path.isfile(f)]\n",
    "\n",
    "# Generate a list of folder paths and file paths to be managed by Git.\n",
    "files.extend(dirs)\n",
    "save_path = []\n",
    "for file in files:\n",
    "    save_path.append(experiment_path + '/' + file)\n",
    "save_path.append('/home/jovyan/pipeline.json')\n"
   ]
  },
  {
   "cell_type": "markdown",
   "id": "e68c5d91",
   "metadata": {
    "hidden": true
   },
   "source": [
    "以下を実行して、`リポジトリ側の変更と競合しました。競合を解決してください。`と表示された場合は、[こちらのFAQ](https://dg.nii.ac.jp/G-Node/Info/wiki/%E3%83%AA%E3%82%B5%E3%83%BC%E3%83%81%E3%83%95%E3%83%AD%E3%83%BC%E6%A9%9F%E8%83%BD#1-1%E5%90%8C%E6%9C%9F%E5%87%A6%E7%90%86%E3%82%92%E5%AE%9F%E8%A1%8C%E3%81%99%E3%82%8B%E3%81%A8%E3%80%81%E3%83%AA%E3%83%9D%E3%82%B8%E3%83%88%E3%83%AA%E5%81%B4%E3%81%AE%E5%A4%89%E6%9B%B4%E3%81%A8%E7%AB%B6%E5%90%88%E3%81%97%E3%81%BE%E3%81%97%E3%81%9F%E3%80%82%E7%AB%B6%E5%90%88%E3%82%92%E8%A7%A3%E6%B1%BA%E3%81%97%E3%81%A6%E3%81%8F%E3%81%A0%E3%81%95%E3%81%84%E3%80%82%E3%81%A8%E8%A1%A8%E7%A4%BA%E3%81%95%E3%82%8C%E3%82%8B)を参考に競合を解決してください。"
   ]
  },
  {
   "cell_type": "code",
   "execution_count": null,
   "id": "c941e248",
   "metadata": {
    "hidden": true
   },
   "outputs": [],
   "source": [
    "import os\n",
    "os.chdir('/home/jovyan/WORKFLOWS/FLOW/')\n",
    "from util.scripts import utils\n",
    "os.chdir(os.environ['HOME'])\n",
    "\n",
    "is_ok = utils.syncs_with_repo(git_path=save_path, gitannex_path=annexed_save_path, gitannex_files=gitannex_files, message=EXPERIMENT_TITLE + '_リサーチフロー実行準備')"
   ]
  },
  {
   "cell_type": "markdown",
   "id": "95b2ba2d",
   "metadata": {
    "heading_collapsed": true
   },
   "source": [
    "## 7. フロー図を更新する\n",
    "\n",
    "フロー図にこのタスクが実行済みであることを反映します。"
   ]
  },
  {
   "cell_type": "code",
   "execution_count": null,
   "id": "318936ef",
   "metadata": {
    "hidden": true
   },
   "outputs": [],
   "source": [
    "import os\n",
    "os.chdir(os.environ['HOME'])\n",
    "\n",
    "\n",
    "ex_path = 'WORKFLOWS/EX-WORKFLOWS/images/notebooks.diag'\n",
    "re_path = 'WORKFLOWS/images/notebooks.diag'\n",
    "\n",
    "with open('.gitignore', 'r') as f:\n",
    "    has_re_diag = False\n",
    "    has_ex_diag = False\n",
    "    for line in f:\n",
    "        if ex_path in line:\n",
    "            has_ex_diag = True\n",
    "        if re_path in line:\n",
    "            has_re_diag = True\n",
    "    \n",
    "    if not has_re_diag:\n",
    "        !echo $re_path >> ./.gitignore\n",
    "    if not has_ex_diag:\n",
    "        !echo $ex_path >> ./.gitignore\n",
    "\n",
    "# notebooks.diagのgit管理を外す\n",
    "!git update-index --skip-worktree $re_path\n",
    "!git update-index --skip-worktree $ex_path\n",
    "\n",
    "# フロー図に済マークをつける\n",
    "find = '\"required_every_time\"[fontsize = 10];'\n",
    "replace = '\"required_every_time\"[numbered = 済, fontsize = 10];'\n",
    "\n",
    "with open(ex_path, 'r') as f:\n",
    "    s = f.read()\n",
    "\n",
    "with open(ex_path, 'w') as f:\n",
    "    s = s.replace(find, replace)\n",
    "    f.write(s)"
   ]
  },
  {
   "cell_type": "markdown",
   "id": "984670bb",
   "metadata": {},
   "source": [
    "## 8. 実験フロートップページに遷移する\n",
    "\n",
    "以下のセルを実行し、表示されるリンクをクリックして実験フロートップページに戻ってください。  "
   ]
  },
  {
   "cell_type": "code",
   "execution_count": null,
   "id": "c8729225",
   "metadata": {},
   "outputs": [],
   "source": [
    "from IPython.display import display, HTML, Javascript\n",
    "display(HTML(\"<a href='../../experiment.ipynb'>実験フロートップページに遷移する</a>\"))\n",
    "display(Javascript('IPython.notebook.save_checkpoint();'))"
   ]
  }
 ],
 "metadata": {
  "kernelspec": {
   "display_name": "Python 3 (ipykernel)",
   "language": "python",
   "name": "python3"
  },
  "language_info": {
   "codemirror_mode": {
    "name": "ipython",
    "version": 3
   },
   "file_extension": ".py",
   "mimetype": "text/x-python",
   "name": "python",
   "nbconvert_exporter": "python",
   "pygments_lexer": "ipython3",
   "version": "3.9.10"
  },
  "vscode": {
   "interpreter": {
    "hash": "6a196852dad78838558c3d25678ed4fa7922e766dc7a8a519a679191ca8fa666"
   }
  }
 },
 "nbformat": 4,
 "nbformat_minor": 5
}
