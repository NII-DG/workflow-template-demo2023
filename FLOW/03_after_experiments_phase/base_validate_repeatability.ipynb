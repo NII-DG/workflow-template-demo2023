{
 "cells": [
  {
   "attachments": {},
   "cell_type": "markdown",
   "metadata": {},
   "source": [
    "# 実験の再現性を検証する\n",
    "\n",
    "Sapporoを用いて実施された実験の再現性を検証し、その結果をレポートします。   \n",
    "このタスクで検証されるのは以下の3点です。  \n",
    "- RO-Crate 内の値に基づいて、ワークフローが再実行可能であること\n",
    "- 再実行のステータスが、RO-Crate に記載されているステータスと同一であること\n",
    "- 再実行で得られた結果ファイルのサイズ・チェックサムが、RO-Crate の値と同一であること\n",
    " \n",
    "検証結果は必ず同期する必要はありません。この環境で検証結果を確認いただいたあとに、GIN-forkへ同期するか破棄するか選択いただけます。  \n",
    "検証結果を同期する場合は、研究リポジトリの直下の**validation_results**フォルダに格納されます。タスク実行後に検証結果を確認する際はvalidation_resultsフォルダ配下の**results.json**をご確認ください。  \n",
    "同期しない場合は、検証結果は破棄されます。\n",
    "\n",
    "研究フロートップページに戻る場合は[こちら](../../base_FLOW.ipynb)。新規タブで開きます。  "
   ]
  },
  {
   "attachments": {},
   "cell_type": "markdown",
   "metadata": {},
   "source": [
    "## 0. 研究リポジトリ名を確認する\n",
    "\n",
    "以下のセルを実行すると、この実験実行環境で操作する研究リポジトリ名を確認できます。 "
   ]
  },
  {
   "cell_type": "code",
   "execution_count": null,
   "metadata": {
    "vscode": {
     "languageId": "plaintext"
    }
   },
   "outputs": [],
   "source": [
    "import os\n",
    "os.chdir('/home/jovyan/WORKFLOWS/FLOW/')\n",
    "from util.scripts import utils\n",
    "utils.show_name('green')"
   ]
  },
  {
   "attachments": {},
   "cell_type": "markdown",
   "metadata": {},
   "source": [
    "## 1. 再現性を確認したい実験パッケージを選択する\n",
    "\n",
    "以下のセルを実行して、再現性を検証したい実験パッケージを選んでください。  \n",
    "選択を間違えた場合は、このセルを再実行してください。"
   ]
  },
  {
   "cell_type": "code",
   "execution_count": null,
   "metadata": {
    "vscode": {
     "languageId": "plaintext"
    }
   },
   "outputs": [],
   "source": [
    "import json\n",
    "from ipywidgets import Dropdown, Button\n",
    "from IPython.display import clear_output\n",
    "\n",
    "# 実験パッケージ名を取得\n",
    "with open('/home/jovyan/pipeline.json', 'r') as f:\n",
    "    pipeline = json.load(f)\n",
    "\n",
    "# 再現する実験パッケージを選択\n",
    "def on_click_callback(clicked_button: Button) -> None:\n",
    "    global package\n",
    "    package=dropdown.value\n",
    "    clear_output()\n",
    "    print(\"入力を受けつけました：\", package)\n",
    "\n",
    "dropdown = Dropdown(\n",
    "    options=pipeline,\n",
    "    description='実験パッケージ名:',\n",
    "    disabled=False,\n",
    ")\n",
    "\n",
    "button = Button(description='入力完了')\n",
    "button.on_click(on_click_callback)\n",
    "display(dropdown, button)"
   ]
  },
  {
   "attachments": {},
   "cell_type": "markdown",
   "metadata": {},
   "source": [
    "## 2. 研究データを最新化する\n",
    "\n",
    "以下のセルを実行すると、この実験実行環境で操作する研究リポジトリ名を確認できます。 "
   ]
  },
  {
   "cell_type": "code",
   "execution_count": null,
   "metadata": {
    "vscode": {
     "languageId": "plaintext"
    }
   },
   "outputs": [],
   "source": [
    "import os\n",
    "\n",
    "package_dir = \"/home/jovyan/experiments/\" + package\n",
    "result_dir = package_dir + \"/output_data\"\n",
    "\n",
    "!datalad update -s gin --merge\n",
    "os.chdir(package_dir)\n",
    "!datalad get ."
   ]
  },
  {
   "attachments": {},
   "cell_type": "markdown",
   "metadata": {},
   "source": [
    "## 3. 再現性に関わるメタデータを検証する"
   ]
  },
  {
   "cell_type": "code",
   "execution_count": null,
   "metadata": {
    "vscode": {
     "languageId": "plaintext"
    }
   },
   "outputs": [],
   "source": [
    "import os\n",
    "import json\n",
    "import subprocess\n",
    "\n",
    "cmd = [\"python3\", \"/home/jovyan/nii-dg/sapporo_example/package_ro_crate.py\", \"http://dg02.dg.rcos.nii.ac.jp:3000\", result_dir]\n",
    "result = subprocess.run(cmd, capture_output=True, text=True)\n",
    "if result.returncode == 0:\n",
    "    print(\"メタデータをパッケージングしました。\")\n",
    "    !cat ro-crate-metadata.json\n",
    "else:\n",
    "    print(\"メタデータのパッケージングに失敗しました。\")\n",
    "    print(result.stderr)"
   ]
  },
  {
   "cell_type": "code",
   "execution_count": null,
   "metadata": {
    "vscode": {
     "languageId": "plaintext"
    }
   },
   "outputs": [],
   "source": [
    "from urllib import parse\n",
    "import requests\n",
    "import os\n",
    "import json\n",
    "import logging\n",
    "\n",
    "with open(\"/home/jovyan/experiments/test1/ro-crate-metadata.json\") as f:\n",
    "    ro_crate = json.load(f)\n",
    "\n",
    "try:\n",
    "    # generate url_for_request_validation\n",
    "    url_for_request_validation = parse.urlunparse((\n",
    "        'http',\n",
    "        'dg02.dg.rcos.nii.ac.jp:443', \n",
    "        'validate',\n",
    "        '',\n",
    "        '',\n",
    "        ''\n",
    "    ))\n",
    "    # request validation\n",
    "    headers = {'content-type': 'application/json'}\n",
    "    response = requests.post(url_for_request_validation, data=json.dumps(ro_crate), headers=headers)\n",
    "    result = response.json()\n",
    "except Exception as e:\n",
    "    logging.error('検証サービスに接続できません。')\n",
    "    logging.error(str(e))\n",
    "else:\n",
    "    if response.status_code == requests.codes.ok:\n",
    "        os.chdir(os.environ['HOME'])\n",
    "        from WORKFLOWS.utils.tmp_validation import tmp_validation\n",
    "        request_id = result['request_id']\n",
    "        tmp_validation.save_request_id(request_id)\n",
    "        print('正常に検証が依頼されました。次の処理にお進みください。\\nリクエストID：' + request_id)\n",
    "    elif response.ok == False:\n",
    "        logging.error('異常が発生しました。担当者にお問い合わせください。')\n",
    "        logging.error(result['message'])"
   ]
  },
  {
   "attachments": {},
   "cell_type": "markdown",
   "metadata": {},
   "source": [
    "## 4. 検証結果を確認する"
   ]
  },
  {
   "cell_type": "code",
   "execution_count": null,
   "metadata": {
    "vscode": {
     "languageId": "plaintext"
    }
   },
   "outputs": [],
   "source": [
    "import os\n",
    "import json\n",
    "import requests\n",
    "from urllib import parse\n",
    "import time\n",
    "from IPython.display import display, HTML, clear_output\n",
    "import ipywidgets as widgets\n",
    "from WORKFLOWS.utils.tmp_validation import tmp_validation\n",
    "import logging\n",
    "\n",
    "def on_click_callback(clicked_button: widgets.Button) -> None:\n",
    "    clear_output()\n",
    "    print('検証結果の出力を削除しました。\\n再度確認したい場合は、次のセルを実行する前にこのセルを再実行してください。')\n",
    "\n",
    "def show_results():\n",
    "    logging.error('検証の結果、メタデータに以下の不備が見つかりました。確認後、「確認を完了する」ボタンをクリックして次にお進みください。'\\\n",
    "                  '\\n「確認を完了する」ボタンがクリックされていない場合は、検証結果を含んだこのノートブックがリポジトリに同期されます。')\n",
    "    button = widgets.Button(description='確認を完了する')\n",
    "    button.on_click(on_click_callback)\n",
    "    !cat $result_file_path\n",
    "    display(button)\n",
    "    \n",
    "request_id = tmp_validation.get_request_id()\n",
    "counter = 5\n",
    "while counter >0:\n",
    "    try:\n",
    "        # generate url_for_get_validation_results\n",
    "        url_for_get_validation_results = parse.urlunparse((\n",
    "            'http',\n",
    "            'dg02.dg.rcos.nii.ac.jp:443', \n",
    "            request_id,\n",
    "            '',\n",
    "            '',\n",
    "            ''\n",
    "        ))\n",
    "        # request get validation results\n",
    "        response = requests.get(url_for_get_validation_results)\n",
    "        result = response.json()\n",
    "        counter -= 1\n",
    "        clear_output()\n",
    "    except Exception as e:\n",
    "        logging.error('検証サービスに接続できません。')\n",
    "        logging.error(str(e))\n",
    "        break\n",
    "    else:\n",
    "        if response.status_code == requests.codes.ok:\n",
    "            status = result['status']\n",
    "            if status == 'UNKNOWN':\n",
    "                logging.error('リクエストID：' + request_id + 'の状況が読み込めませんでした。')\n",
    "                break\n",
    "            elif any([status == 'QUEUED', status == 'RUNNING']):\n",
    "                print('リクエストID：' + request_id + 'は検証完了していません。時間をおいて再度確認します。')\n",
    "                time.sleep(5)\n",
    "                continue\n",
    "            elif status == 'COMPLETE':\n",
    "                tmp_validation.save_verification_results(result)\n",
    "                print('すべてのメタデータは適切に管理されています。次にお進みください。')\n",
    "                break\n",
    "            elif status == 'FAILED':\n",
    "                tmp_validation.save_verification_results(result)\n",
    "                result_file_path = tmp_validation.fetch_validation_results_file_path()\n",
    "                show_results()\n",
    "                break\n",
    "            elif status == 'EXECUTOR_ERROR':\n",
    "                logging.error('正常に検証を実行できませんでした。')\n",
    "                break\n",
    "            elif status == 'CANCELING':\n",
    "                print('リクエストID：' + request_id + 'は現在キャンセル中です。')\n",
    "                break\n",
    "            elif status == 'CANCELED':\n",
    "                print('リクエストID：' + request_id + 'はキャンセルされました。')\n",
    "                break\n",
    "\n",
    "        elif response.ok == False:\n",
    "            logging.error('異常が発生しました。担当者にお問い合わせください。')\n",
    "            logging.error(result['message'])\n",
    "                      \n",
    "else:\n",
    "    clear_output()\n",
    "    logging.error('検証に時間がかかっています。時間をおいて再度このセルを実行してください。')"
   ]
  },
  {
   "attachments": {},
   "cell_type": "markdown",
   "metadata": {},
   "source": [
    "## 5. 研究リポジトリに同期する\n",
    "\n",
    "このタスクの実行結果を研究リポジトリに同期します。  \n",
    "検証結果を同期するか破棄するかは、「5.1. 検証結果を研究リポジトリに同期するか選択する」で選択できます。"
   ]
  },
  {
   "attachments": {},
   "cell_type": "markdown",
   "metadata": {},
   "source": [
    "### 5.1. 検証結果を研究リポジトリに同期するか破棄するかを選択する"
   ]
  },
  {
   "cell_type": "code",
   "execution_count": null,
   "metadata": {
    "vscode": {
     "languageId": "plaintext"
    }
   },
   "outputs": [],
   "source": [
    "import panel as pn\n",
    "\n",
    "pn.extension()\n",
    "column = pn.Column()\n",
    "\n",
    "def save_selection_result(event):\n",
    "    global need_sync\n",
    "    done_button.button_type = \"success\"\n",
    "    done_button.name = \"選択完了しました。次の処理にお進みください。\"\n",
    "    need_sync = True if select.value == 1 else False\n",
    "\n",
    "select = pn.widgets.Select(name='検証結果を同期するか破棄するかを選択した後、完了ボタンをクリックしてください。', options={'同期する': 1, '同期せずに破棄する':2})\n",
    "done_button = pn.widgets.Button(name= \"選択を完了する\", button_type= \"primary\")\n",
    "done_button.on_click(save_selection_result)\n",
    "column.append(select)\n",
    "column.append(done_button)\n",
    "column"
   ]
  },
  {
   "attachments": {},
   "cell_type": "markdown",
   "metadata": {},
   "source": [
    "### 5.2. 研究リポジトリに同期する\n",
    "\n",
    "研究リポジトリにこのタスクの実行結果を同期します。  \n",
    "「5.1. 検証結果を研究リポジトリに同期するか破棄するかを選択する」で同期せずに破棄するを選択した場合は、検証結果は同期されずこのファイルの実行結果のみが同期されます。"
   ]
  },
  {
   "cell_type": "code",
   "execution_count": null,
   "metadata": {
    "vscode": {
     "languageId": "plaintext"
    }
   },
   "outputs": [],
   "source": [
    "import os\n",
    "from IPython.display import display, Javascript\n",
    "os.chdir('/home/jovyan/WORKFLOWS/FLOW/')\n",
    "from util.scripts import utils\n",
    "os.chdir(os.environ['HOME'])\n",
    "from WORKFLOWS.utils.tmp_validation import tmp_validation\n",
    "\n",
    "tmp_validation.operate_validation_results(need_sync)\n",
    "git_path = ['/home/jovyan/WORKFLOWS/FLOW/03_after_experiments_phase/base_validate_repeatability.ipynb']\n",
    "if need_sync == True:\n",
    "    validation_result_path = tmp_validation.fetch_validation_result_path()\n",
    "    git_path.append(validation_result_path)\n",
    "\n",
    "display(Javascript('IPython.notebook.save_checkpoint();'))\n",
    "is_ok = utils.syncs_with_repo(git_path=git_path, gitannex_path=None, gitannex_files=None, message='実験パッケージ' + package + 'の再現性検証')\n",
    "if is_ok:\n",
    "    tmp_validation.delete_verification_results_and_request_id()"
   ]
  },
  {
   "attachments": {},
   "cell_type": "markdown",
   "metadata": {},
   "source": [
    "## 6. 研究フロートップページに遷移する\n",
    "\n",
    "以下のセルを実行し、表示されるリンクをクリックして研究フロートップページに戻ってください。"
   ]
  },
  {
   "cell_type": "code",
   "execution_count": null,
   "metadata": {
    "vscode": {
     "languageId": "plaintext"
    }
   },
   "outputs": [],
   "source": [
    "from IPython.display import display, HTML, Javascript\n",
    "display(HTML(\"<a href='../../base_FLOW.ipynb'>研究フロートップページに遷移する</a>\"))\n",
    "display(Javascript('IPython.notebook.save_checkpoint();'))"
   ]
  }
 ],
 "metadata": {
  "language_info": {
   "name": "python"
  },
  "orig_nbformat": 4
 },
 "nbformat": 4,
 "nbformat_minor": 2
}
