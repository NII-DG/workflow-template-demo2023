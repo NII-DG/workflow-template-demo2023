{
 "cells": [
  {
   "cell_type": "markdown",
   "metadata": {},
   "source": [
    "# 実験の再現性を検証する\n",
    "\n",
    "ワークフローの再現性に関わる必要なメタデータをパッケージング（整理）し、Sapporoを用いて実験の再現性を検証します。\n",
    "検証内容は以下の3点です。  \n",
    "- RO-Crate 内の値に基づいて、ワークフローが再実行可能であること\n",
    "- 再実行のステータスが、RO-Crate に記載されているステータスと同一であること\n",
    "- 再実行で得られた結果ファイルのサイズ・チェックサムが、RO-Crate の値と同一であること\n",
    "\n",
    "### パッケージング対象のメタデータについて\n",
    "パッケージング対象のメタデータ項目は以下です。  \n",
    "\n",
    "|項目|説明|\n",
    "|:-:|:-:|\n",
    "|SapporoRun|Sapporoでワークフローを再実行し、既存のワークフロー実行結果と比較するために必要なメタデータ|\n",
    "|Dataset|既存のワークフロー実行結果データセットのメタデータ|\n",
    "|File|既存のワークフロー実行結果ファイルのメタデータ|\n",
    "  \n",
    "再現性に関わるSapporoRun項目として以下の要素を整理します。\n",
    "\n",
    "|要素|必要性|説明|\n",
    "|:-:|:-:|:-:|\n",
    "|workflow_params|任意|ワークフロー実行のためのパラメータ|\n",
    "|workflow_type|任意|CWLやNextflowなどといったワークフロー言語の種別|\n",
    "|workflow_type_version|任意|ワークフロー言語のバージョン|\n",
    "|tags|任意|workflow_params以外の任意のメタデータをキー・バリューのマップにしたもの|\n",
    "|workflow_engine_name|必須|ワークフローエンジン名|\n",
    "|workflow_engine_parameters|任意|追加のパラメータをワークフローエンジンに送信できる|\n",
    "|workflow_url|任意|CWLまたはWDLのドキュメントのURL|\n",
    "|workflow_name|任意|Sapporoに登録されたワークフロー実行時の名前|\n",
    "|workflow_attachment|任意|ワークフローの実行に必要な入力データをSapporoにアップロードするためのファイル名とファイルのURL|\n",
    "|sapporo_location|必須|利用するSapporoサービスのURL|\n",
    "|state|必須|再実行対象の実行済みワークフローのステータス|\n",
    "|outputs|必須|再実行対象の実行済みワークフローの出力結果データセット|\n",
    "\n",
    "### 検証結果について\n",
    "検証結果は必ず同期する必要はありません。この環境で検証結果を確認いただいたあとに、GIN-forkへ同期するか破棄するか選択いただけます。  \n",
    "検証結果を同期する場合は、研究リポジトリの直下の**validation_results**フォルダに格納されます。タスク実行後に検証結果を確認する際はvalidation_resultsフォルダ配下の**results.json**をご確認ください。  \n",
    "同期しない場合は、検証結果は破棄されます。\n",
    "\n",
    "研究フロートップページに戻る場合は[こちら](../../base_FLOW.ipynb)。新規タブで開きます。  "
   ]
  },
  {
   "cell_type": "markdown",
   "metadata": {},
   "source": [
    "## 0. 研究リポジトリ名を確認する\n",
    "\n",
    "以下のセルを実行すると、この実験実行環境で操作する研究リポジトリ名を確認できます。 "
   ]
  },
  {
   "cell_type": "code",
   "execution_count": null,
   "metadata": {
    "vscode": {
     "languageId": "plaintext"
    }
   },
   "outputs": [],
   "source": [
    "import os\n",
    "os.chdir('/home/jovyan/WORKFLOWS/FLOW/')\n",
    "from util.scripts import utils\n",
    "utils.show_name('green')"
   ]
  },
  {
   "cell_type": "markdown",
   "metadata": {
    "heading_collapsed": true
   },
   "source": [
    "## 1. 研究データを最新化する"
   ]
  },
  {
   "cell_type": "code",
   "execution_count": null,
   "metadata": {
    "hidden": true,
    "vscode": {
     "languageId": "plaintext"
    }
   },
   "outputs": [],
   "source": [
    "!datalad update -s gin --merge"
   ]
  },
  {
   "cell_type": "markdown",
   "metadata": {},
   "source": [
    "## 2. 再現性を確認したい実験パッケージを選択する\n",
    "\n",
    "以下のセルを実行して、再現性を検証したい実験パッケージを選んでください。  \n",
    "選択を間違えた場合は、このセルを再実行してください。"
   ]
  },
  {
   "cell_type": "code",
   "execution_count": null,
   "metadata": {
    "vscode": {
     "languageId": "plaintext"
    }
   },
   "outputs": [],
   "source": [
    "import json\n",
    "from ipywidgets import Dropdown, Button\n",
    "from IPython.display import clear_output\n",
    "\n",
    "# 実験パッケージ名を取得\n",
    "with open('/home/jovyan/pipeline.json', 'r') as f:\n",
    "    pipeline = json.load(f)\n",
    "\n",
    "# 再現する実験パッケージを選択\n",
    "def on_click_callback(clicked_button: Button) -> None:\n",
    "    global package\n",
    "    package=dropdown.value\n",
    "    clear_output()\n",
    "    print(\"入力を受けつけました：\", package)\n",
    "\n",
    "dropdown = Dropdown(\n",
    "    options=pipeline,\n",
    "    description='実験パッケージ名:',\n",
    "    disabled=False,\n",
    ")\n",
    "\n",
    "button = Button(description='入力完了')\n",
    "button.on_click(on_click_callback)\n",
    "display(dropdown, button)"
   ]
  },
  {
   "cell_type": "markdown",
   "metadata": {
    "heading_collapsed": true
   },
   "source": [
    "## 3. 実験パッケージのデータを取得する"
   ]
  },
  {
   "cell_type": "code",
   "execution_count": null,
   "metadata": {
    "hidden": true,
    "vscode": {
     "languageId": "plaintext"
    }
   },
   "outputs": [],
   "source": [
    "import os\n",
    "\n",
    "package_dir = \"/home/jovyan/experiments/\" + package\n",
    "result_dir = package_dir + \"/output_data\"\n",
    "\n",
    "os.chdir(package_dir)\n",
    "!datalad get ."
   ]
  },
  {
   "cell_type": "markdown",
   "metadata": {
    "heading_collapsed": true
   },
   "source": [
    "## 4. 再現性に関わるメタデータを検証する"
   ]
  },
  {
   "cell_type": "code",
   "execution_count": null,
   "metadata": {
    "hidden": true,
    "scrolled": true,
    "vscode": {
     "languageId": "plaintext"
    }
   },
   "outputs": [],
   "source": [
    "import os\n",
    "import json\n",
    "import subprocess\n",
    "import logging\n",
    "\n",
    "!mkdir -p '/home/jovyan/.tmp/demo'\n",
    "os.chdir('/home/jovyan/.tmp/demo')\n",
    "cmd = [\"python3\", \"/home/jovyan/nii-dg/sapporo_example/package_ro_crate.py\", \"http://dg02.dg.rcos.nii.ac.jp:3000\", result_dir]\n",
    "try:\n",
    "    result = subprocess.run(cmd, capture_output=True, text=True)\n",
    "    if result.returncode != 0:\n",
    "        raise Exception(result)\n",
    "except Exception as e:\n",
    "    logging.error('メタデータのパッケージングに失敗しました。')\n",
    "    raise Exception(str(e))\n",
    "else:\n",
    "    print(\"メタデータをパッケージングしました。\")\n",
    "    !cat ro-crate-metadata.json\n"
   ]
  },
  {
   "cell_type": "code",
   "execution_count": null,
   "metadata": {
    "hidden": true,
    "vscode": {
     "languageId": "plaintext"
    }
   },
   "outputs": [],
   "source": [
    "from urllib import parse\n",
    "import requests\n",
    "import os\n",
    "import json\n",
    "import logging\n",
    "\n",
    "with open(\"/home/jovyan/.tmp/demo/ro-crate-metadata.json\") as f:\n",
    "    ro_crate = json.load(f)\n",
    "\n",
    "try:\n",
    "    # generate url_for_request_validation\n",
    "    url_for_request_validation = parse.urlunparse((\n",
    "        'http',\n",
    "        'dg02.dg.rcos.nii.ac.jp:443', \n",
    "        'validate',\n",
    "        '',\n",
    "        '',\n",
    "        ''\n",
    "    ))\n",
    "    # request validation\n",
    "    headers = {'content-type': 'application/json'}\n",
    "    response = requests.post(url_for_request_validation, data=json.dumps(ro_crate), headers=headers)\n",
    "    result = response.json()\n",
    "except Exception as e:\n",
    "    logging.error('検証サービスに接続できません。')\n",
    "    raise Exception(str(e))\n",
    "else:\n",
    "    if response.status_code == requests.codes.ok:\n",
    "        os.chdir(os.environ['HOME'])\n",
    "        from WORKFLOWS.utils.tmp_validation import tmp_validation\n",
    "        request_id = result['request_id']\n",
    "        tmp_validation.save_request_id(request_id)\n",
    "        print('正常に検証が依頼されました。次の処理にお進みください。\\nリクエストID：' + request_id)\n",
    "    elif response.ok == False:\n",
    "        logging.error('異常が発生しました。担当者にお問い合わせください。')\n",
    "        raise Exception(result['message'])\n",
    "        "
   ]
  },
  {
   "cell_type": "markdown",
   "metadata": {},
   "source": [
    "## 5. 検証結果を確認する"
   ]
  },
  {
   "cell_type": "code",
   "execution_count": null,
   "metadata": {
    "scrolled": false
   },
   "outputs": [],
   "source": [
    "from WORKFLOWS.utils.tmp_validation import tmp_validation\n",
    "\n",
    "tmp_validation.get_validation_results()"
   ]
  },
  {
   "cell_type": "markdown",
   "metadata": {},
   "source": [
    "## 6. 研究リポジトリに同期する\n",
    "\n",
    "このタスクの実行結果を研究リポジトリに同期します。  \n",
    "検証結果を同期するか破棄するかは、「5.1. 検証結果を研究リポジトリに同期するか選択する」で選択できます。"
   ]
  },
  {
   "cell_type": "markdown",
   "metadata": {},
   "source": [
    "### 6.1. 検証結果を研究リポジトリに同期するか破棄するかを選択する"
   ]
  },
  {
   "cell_type": "code",
   "execution_count": null,
   "metadata": {
    "vscode": {
     "languageId": "plaintext"
    }
   },
   "outputs": [],
   "source": [
    "import panel as pn\n",
    "\n",
    "pn.extension()\n",
    "column = pn.Column()\n",
    "\n",
    "def save_selection_result(event):\n",
    "    global need_sync\n",
    "    done_button.button_type = \"success\"\n",
    "    done_button.name = \"選択完了しました。次の処理にお進みください。\"\n",
    "    need_sync = True if select.value == 1 else False\n",
    "\n",
    "select = pn.widgets.Select(name='検証結果を同期するか破棄するかを選択した後、完了ボタンをクリックしてください。', options={'同期する': 1, '同期せずに破棄する':2})\n",
    "done_button = pn.widgets.Button(name= \"選択を完了する\", button_type= \"primary\")\n",
    "done_button.on_click(save_selection_result)\n",
    "column.append(select)\n",
    "column.append(done_button)\n",
    "column"
   ]
  },
  {
   "cell_type": "markdown",
   "metadata": {
    "heading_collapsed": true
   },
   "source": [
    "### 6.2. 研究リポジトリに同期する\n",
    "\n",
    "研究リポジトリにこのタスクの実行結果を同期します。  \n",
    "「5.1. 検証結果を研究リポジトリに同期するか破棄するかを選択する」で同期せずに破棄するを選択した場合は、検証結果は同期されずこのファイルの実行結果のみが同期されます。"
   ]
  },
  {
   "cell_type": "code",
   "execution_count": null,
   "metadata": {
    "hidden": true,
    "vscode": {
     "languageId": "plaintext"
    }
   },
   "outputs": [],
   "source": [
    "import os\n",
    "from IPython.display import display, Javascript\n",
    "os.chdir('/home/jovyan/WORKFLOWS/FLOW/')\n",
    "from util.scripts import utils\n",
    "os.chdir(os.environ['HOME'])\n",
    "from WORKFLOWS.utils.tmp_validation import tmp_validation\n",
    "\n",
    "tmp_validation.operate_validation_results(need_sync)\n",
    "git_path = ['/home/jovyan/WORKFLOWS/FLOW/03_after_experiments_phase/base_validate_repeatability.ipynb']\n",
    "if need_sync == True:\n",
    "    validation_result_path = tmp_validation.fetch_validation_result_path()\n",
    "    git_path.append(validation_result_path)\n",
    "\n",
    "display(Javascript('IPython.notebook.save_checkpoint();'))\n",
    "is_ok = utils.syncs_with_repo(git_path=git_path, gitannex_path=None, gitannex_files=None, message='実験パッケージ' + package + 'の再現性検証')\n",
    "if is_ok:\n",
    "    tmp_validation.delete_verification_results_and_request_id()"
   ]
  },
  {
   "cell_type": "markdown",
   "metadata": {},
   "source": [
    "## 7. 研究フロートップページに遷移する\n",
    "\n",
    "以下のセルを実行し、表示されるリンクをクリックして研究フロートップページに戻ってください。"
   ]
  },
  {
   "cell_type": "code",
   "execution_count": null,
   "metadata": {
    "vscode": {
     "languageId": "plaintext"
    }
   },
   "outputs": [],
   "source": [
    "from IPython.display import display, HTML, Javascript\n",
    "display(HTML(\"<a href='../../base_FLOW.ipynb'>研究フロートップページに遷移する</a>\"))\n",
    "display(Javascript('IPython.notebook.save_checkpoint();'))"
   ]
  }
 ],
 "metadata": {
  "kernelspec": {
   "display_name": "Python 3 (ipykernel)",
   "language": "python",
   "name": "python3"
  },
  "language_info": {
   "codemirror_mode": {
    "name": "ipython",
    "version": 3
   },
   "file_extension": ".py",
   "mimetype": "text/x-python",
   "name": "python",
   "nbconvert_exporter": "python",
   "pygments_lexer": "ipython3",
   "version": "3.9.10"
  }
 },
 "nbformat": 4,
 "nbformat_minor": 2
}
