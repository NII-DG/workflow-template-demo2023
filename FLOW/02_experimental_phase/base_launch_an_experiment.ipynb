{
 "cells": [
  {
   "cell_type": "markdown",
   "metadata": {
    "tags": []
   },
   "source": [
    "# 実験実行環境を作成する\n",
    "\n",
    "このタスクでは、「新規実験」のための実行環境を作成します。  \n",
    "2回目以降の実行の場合は、このセルが選択された状態で画面上部に表示される以下のボタンをクリックしてセルの解凍を行ってから、セルを実行して下さい。  \n",
    "![UnfreezeBotton](../../images/unfreeze_button.png)\n",
    "\n",
    "研究フロートップページに戻る場合は[こちら](../../base_FLOW.ipynb)。新規タブで開きます。  "
   ]
  },
  {
   "cell_type": "markdown",
   "metadata": {},
   "source": [
    "## 0. 研究リポジトリ名を確認する  \n",
    "以下のセルを実行すると、この研究実行環境で操作する研究リポジトリ名を確認できます。  "
   ]
  },
  {
   "cell_type": "code",
   "execution_count": null,
   "metadata": {},
   "outputs": [],
   "source": [
    "import os\n",
    "os.chdir('/home/jovyan/WORKFLOWS/FLOW/')\n",
    "from util.scripts import utils\n",
    "utils.show_name('green')"
   ]
  },
  {
   "cell_type": "markdown",
   "metadata": {
    "heading_collapsed": true
   },
   "source": [
    "## 1. 実験実行環境を作成するための準備をする"
   ]
  },
  {
   "cell_type": "code",
   "execution_count": null,
   "metadata": {
    "hidden": true
   },
   "outputs": [],
   "source": [
    "import os\n",
    "from IPython.display import clear_output\n",
    "\n",
    "# リモートリポジトリのURLを最新化する\n",
    "os.chdir('/home/jovyan/WORKFLOWS/FLOW/')\n",
    "from util.scripts import utils\n",
    "utils.update_repo_url()\n",
    "\n",
    "# リモートリポジトリのURLを取得する\n",
    "os.chdir(os.environ['HOME'])\n",
    "remote_http_url = !git config --get remote.origin.url\n",
    "for item in remote_http_url:\n",
    "    remote_http_url = item\n",
    "clear_output()\n",
    "\n",
    "print('準備が完了しました。次の処理にお進みください。')"
   ]
  },
  {
   "cell_type": "markdown",
   "metadata": {},
   "source": [
    "## 2. 実験実行環境にアクセスする\n",
    "\n",
    "以下のうち、いずれかの手順を実施してください。\n",
    "\n",
    "- 標準的な実験活動の場合：「2-A. 標準環境での実験」\n",
    "- 高性能実験環境を利用する場合：「2-B. 高性能実験環境での実験」"
   ]
  },
  {
   "cell_type": "markdown",
   "metadata": {},
   "source": [
    "### 2-A. 標準環境での実験\n",
    "\n",
    "以下のセルを実行した後に出力されるリンクをクリックして実験に移ってください。  "
   ]
  },
  {
   "cell_type": "code",
   "execution_count": null,
   "metadata": {},
   "outputs": [],
   "source": [
    "import urllib\n",
    "\n",
    "print(\"標準環境で新規実験用の実行環境を作成します。\\n以下のリンクをクリックしてください。新規タブで開きます。\\n\")\n",
    "print(\n",
    "        \"https://binder.cs.rcos.nii.ac.jp/v2/git/\" + urllib.parse.quote(remote_http_url, safe='') + \"/HEAD?filepath=WORKFLOWS/experiment.ipynb\"\n",
    "    )"
   ]
  },
  {
   "cell_type": "markdown",
   "metadata": {},
   "source": [
    "### 2-B. 高性能実験環境での実験\n",
    "\n",
    "以下のセルを実行した後に出力されるリンクをクリックして実験に移ってください。  "
   ]
  },
  {
   "cell_type": "code",
   "execution_count": null,
   "metadata": {},
   "outputs": [],
   "source": [
    "import urllib\n",
    "\n",
    "print(\"高性能実験環境で新規実験用の実行環境を作成します。\\n以下のリンクをクリックしてください。新規タブで開きます。\\n\")\n",
    "print(\n",
    "    \"http://163.220.176.50:10980/v2/git/\" + urllib.parse.quote(remote_http_url, safe='') + \"/HEAD?filepath=WORKFLOWS/experiment.ipynb\"\n",
    ")"
   ]
  },
  {
   "cell_type": "markdown",
   "metadata": {},
   "source": [
    "## 3. 研究フロートップページに遷移する\n",
    "\n",
    "以下のセルを実行し、表示されるリンクをクリックして研究フロートップページに戻ってください。"
   ]
  },
  {
   "cell_type": "code",
   "execution_count": null,
   "metadata": {},
   "outputs": [],
   "source": [
    "from IPython.display import display, HTML, Javascript\n",
    "display(HTML(\"<a href='../../base_FLOW.ipynb'>研究フロートップページに遷移する</a>\"))\n",
    "display(Javascript('IPython.notebook.save_checkpoint();'))"
   ]
  }
 ],
 "metadata": {
  "kernelspec": {
   "display_name": "Python 3 (ipykernel)",
   "language": "python",
   "name": "python3"
  },
  "language_info": {
   "codemirror_mode": {
    "name": "ipython",
    "version": 3
   },
   "file_extension": ".py",
   "mimetype": "text/x-python",
   "name": "python",
   "nbconvert_exporter": "python",
   "pygments_lexer": "ipython3",
   "version": "3.9.10"
  },
  "vscode": {
   "interpreter": {
    "hash": "6a196852dad78838558c3d25678ed4fa7922e766dc7a8a519a679191ca8fa666"
   }
  }
 },
 "nbformat": 4,
 "nbformat_minor": 4
}
